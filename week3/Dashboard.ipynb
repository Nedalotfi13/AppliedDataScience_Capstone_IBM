{
 "cells": [
  {
   "cell_type": "code",
   "execution_count": 1,
   "id": "1c483e0e",
   "metadata": {},
   "outputs": [
    {
     "name": "stdout",
     "output_type": "stream",
     "text": [
      "Requirement already satisfied: dash in c:\\users\\neda\\anaconda3\\lib\\site-packages (2.9.3)\n",
      "Requirement already satisfied: dash-core-components==2.0.0 in c:\\users\\neda\\anaconda3\\lib\\site-packages (from dash) (2.0.0)\n",
      "Requirement already satisfied: dash-html-components==2.0.0 in c:\\users\\neda\\anaconda3\\lib\\site-packages (from dash) (2.0.0)\n",
      "Requirement already satisfied: dash-table==5.0.0 in c:\\users\\neda\\anaconda3\\lib\\site-packages (from dash) (5.0.0)\n",
      "Requirement already satisfied: Flask>=1.0.4 in c:\\users\\neda\\anaconda3\\lib\\site-packages (from dash) (1.1.2)\n",
      "Requirement already satisfied: plotly>=5.0.0 in c:\\users\\neda\\anaconda3\\lib\\site-packages (from dash) (5.9.0)\n",
      "Requirement already satisfied: itsdangerous>=0.24 in c:\\users\\neda\\anaconda3\\lib\\site-packages (from Flask>=1.0.4->dash) (2.0.1)\n",
      "Requirement already satisfied: Werkzeug>=0.15 in c:\\users\\neda\\anaconda3\\lib\\site-packages (from Flask>=1.0.4->dash) (2.0.3)\n",
      "Requirement already satisfied: Jinja2>=2.10.1 in c:\\users\\neda\\anaconda3\\lib\\site-packages (from Flask>=1.0.4->dash) (2.11.3)\n",
      "Requirement already satisfied: click>=5.1 in c:\\users\\neda\\anaconda3\\lib\\site-packages (from Flask>=1.0.4->dash) (8.0.4)\n",
      "Requirement already satisfied: tenacity>=6.2.0 in c:\\users\\neda\\anaconda3\\lib\\site-packages (from plotly>=5.0.0->dash) (8.0.1)\n",
      "Requirement already satisfied: colorama in c:\\users\\neda\\anaconda3\\lib\\site-packages (from click>=5.1->Flask>=1.0.4->dash) (0.4.5)\n",
      "Requirement already satisfied: MarkupSafe>=0.23 in c:\\users\\neda\\anaconda3\\lib\\site-packages (from Jinja2>=2.10.1->Flask>=1.0.4->dash) (2.0.1)\n"
     ]
    }
   ],
   "source": [
    "! pip install dash"
   ]
  },
  {
   "cell_type": "code",
   "execution_count": 2,
   "id": "246d2f67",
   "metadata": {},
   "outputs": [
    {
     "name": "stderr",
     "output_type": "stream",
     "text": [
      "C:\\Users\\NEDA\\AppData\\Local\\Temp\\ipykernel_11068\\4141645823.py:5: UserWarning: \n",
      "The dash_core_components package is deprecated. Please replace\n",
      "`import dash_core_components as dcc` with `from dash import dcc`\n",
      "  import dash_core_components as dcc\n",
      "C:\\Users\\NEDA\\AppData\\Local\\Temp\\ipykernel_11068\\4141645823.py:7: UserWarning: \n",
      "The dash_html_components package is deprecated. Please replace\n",
      "`import dash_html_components as html` with `from dash import html`\n",
      "  import dash_html_components as html\n"
     ]
    }
   ],
   "source": [
    "# Import required libraries\n",
    "import pandas as pd\n",
    "import dash\n",
    "from dash import dcc\n",
    "import dash_core_components as dcc\n",
    "from dash import html\n",
    "import dash_html_components as html\n",
    "from dash.dependencies import Input, Output\n",
    "import plotly.express as px"
   ]
  },
  {
   "cell_type": "code",
   "execution_count": null,
   "id": "95586d53",
   "metadata": {},
   "outputs": [],
   "source": [
    "# Read the airline data into pandas dataframe\n",
    "spacex_df = pd.read_csv(\"spacex_launch_dash.csv\")\n",
    "max_payload = spacex_df['Payload Mass (kg)'].max()\n",
    "min_payload = spacex_df['Payload Mass (kg)'].min()"
   ]
  },
  {
   "cell_type": "code",
   "execution_count": null,
   "id": "d84f53a8",
   "metadata": {},
   "outputs": [],
   "source": [
    "# Create a dash application\n",
    "app = dash.Dash(__name__)\n",
    "\n",
    "# Create an app layout\n",
    "launch_sites = []\n",
    "launch_sites.append({'label': 'All Sites', 'value': 'All Sites'})\n",
    "for item in spacex_df[\"Launch Site\"].value_counts().index:\n",
    "    launch_sites.append({'label': item, 'value': item})\n",
    "app.layout = html.Div(children=[html.H1('SpaceX Launch Records Dashboard',\n",
    "                                        style={'textAlign': 'center', 'color': '#503D36',\n",
    "                                               'font-size': 40}),\n",
    "                                # TASK 1: Add a dropdown list to enable Launch Site selection\n",
    "                                # The default select value is for ALL sites\n",
    "                                # dcc.Dropdown(id='site-dropdown',...)\n",
    "                                dcc.Dropdown(id='site-dropdown', options = launch_sites, value = 'All Sites', placeholder = \"Select a Launch Site here\", searchable = True),\n",
    "                                html.Br(),\n",
    "                            \n",
    "\n",
    "                                # TASK 2: Add a pie chart to show the total successful launches count for all sites\n",
    "                                # If a specific launch site was selected, show the Success vs. Failed counts for the site\n",
    "                                html.Div(dcc.Graph(id='success-pie-chart')),\n",
    "                                html.Br(),\n",
    "\n",
    "                                html.P(\"Payload range (Kg):\"),\n",
    "                                # TASK 3: Add a slider to select payload range\n",
    "                                #dcc.RangeSlider(id='payload-slider',...)\n",
    "                                dcc.RangeSlider(id='payload-slider', min = 0, max = 10000, step = 1000, value = [min_payload, max_payload], marks={ 2500: {'label': '2500 (Kg)'}, 5000: {'label': '5000 (Kg)'}, 7500: {'label': '7500 (Kg)'}}),\n",
    "                                html.Br(),\n",
    "\n",
    "                                # TASK 4: Add a scatter chart to show the correlation between payload and launch success\n",
    "                                html.Div(dcc.Graph(id='success-payload-scatter-chart')),\n",
    "                                ])\n",
    "\n",
    "# TASK 2:\n",
    "# Add a callback function for `site-dropdown` as input, `success-pie-chart` as output\n",
    "@app.callback( Output(component_id='success-pie-chart', component_property='figure'),\n",
    "               Input(component_id='site-dropdown', component_property='value')\n",
    "# Add computation to callback function and return graph\n",
    "def select(inputt):\n",
    "    if inputt == 'All Sites':\n",
    "        new_df = spacex_df.groupby(['Launch Site'])[\"class\"].sum().to_frame()\n",
    "        new_df = new_df.reset_index()\n",
    "        fig = px.pie(new_df, values='class', names='Launch Site', title='Total Success Launches by Site')\n",
    "    else:\n",
    "        new_df = spacex_df[spacex_df[\"Launch Site\"] == inputt][\"class\"].value_counts().to_frame()\n",
    "        new_df[\"name\"] = [\"Failure\", \"Success\"]\n",
    "        fig = px.pie(new_df, values='class', names='name', title='Total Success Launches for ' + inputt)\n",
    "    return fig\n",
    "# TASK 4:\n",
    "# Add a callback function for `site-dropdown` and `payload-slider` as inputs, `success-payload-scatter-chart` as output\n",
    "@app.callback( Output(component_id='success-payload-scatter-chart', component_property='figure'),\n",
    "               Input(component_id='site-dropdown', component_property='value'), Input(component_id='payload-slider', component_property='value') \n",
    ")\n",
    "def scatter(input1, input2):\n",
    "    print(input1)\n",
    "    print(input2)\n",
    "    if input1 == 'All Sites':\n",
    "        new_df = spacex_df\n",
    "        new_df2 = new_df[new_df[\"Payload Mass (kg)\"] >= input2[0]]\n",
    "        new_df3 = new_df2[new_df[\"Payload Mass (kg)\"] <= input2[1]]\n",
    "        fig2 = px.scatter(new_df3, y=\"class\", x=\"Payload Mass (kg)\", color=\"Booster Version Category\")\n",
    "    else:\n",
    "        new_df = spacex_df[spacex_df[\"Launch Site\"] == input1]\n",
    "        new_df2 = new_df[new_df[\"Payload Mass (kg)\"] >= input2[0]]\n",
    "        new_df3 = new_df2[new_df[\"Payload Mass (kg)\"] <= input2[1]]\n",
    "        #new_df2 = new_df[new_df[\"Payload Mass (kg)\"] >= input2[0] & new_df[\"Payload Mass (kg)\"] <= input2[1]]\n",
    "        fig2 = px.scatter(new_df3, y=\"class\", x=\"Payload Mass (kg)\", color=\"Booster Version Category\")\n",
    "    return fig2\n",
    "\n",
    "# Run the app\n",
    "if __name__ == '__main__':\n",
    "    app.run_server()\n"
   ]
  },
  {
   "cell_type": "code",
   "execution_count": null,
   "id": "9b3601db",
   "metadata": {},
   "outputs": [],
   "source": []
  }
 ],
 "metadata": {
  "kernelspec": {
   "display_name": "Python 3 (ipykernel)",
   "language": "python",
   "name": "python3"
  },
  "language_info": {
   "codemirror_mode": {
    "name": "ipython",
    "version": 3
   },
   "file_extension": ".py",
   "mimetype": "text/x-python",
   "name": "python",
   "nbconvert_exporter": "python",
   "pygments_lexer": "ipython3",
   "version": "3.9.13"
  }
 },
 "nbformat": 4,
 "nbformat_minor": 5
}
